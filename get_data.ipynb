{
 "cells": [
  {
   "cell_type": "code",
   "execution_count": 1,
   "id": "71989d1e-fbf6-4fef-b53a-18e85ef7622e",
   "metadata": {
    "tags": []
   },
   "outputs": [],
   "source": [
    "import pandas as pd\n",
    "import os\n",
    "import sys"
   ]
  },
  {
   "cell_type": "code",
   "execution_count": 2,
   "id": "22a58380-a26c-484f-95ff-825ed35f0e23",
   "metadata": {
    "tags": []
   },
   "outputs": [],
   "source": [
    "my_path = os.path.abspath('stepik_linear_models-main/datasets/')"
   ]
  },
  {
   "cell_type": "code",
   "execution_count": 3,
   "id": "10b53fe3-6e32-4b93-9c04-2809b37c3881",
   "metadata": {
    "tags": []
   },
   "outputs": [],
   "source": [
    "datasets = []\n",
    "for address, dirs, files in os.walk(my_path):\n",
    "    datasets.append(files)"
   ]
  },
  {
   "cell_type": "code",
   "execution_count": 4,
   "id": "a5f0dcb1-b033-467b-bf5b-0f67871fe811",
   "metadata": {
    "tags": []
   },
   "outputs": [
    {
     "data": {
      "text/plain": [
       "['D_loan.csv',\n",
       " 'D_target.csv',\n",
       " 'D_close_loan.csv',\n",
       " 'D_salary.csv',\n",
       " 'D_pens.csv',\n",
       " 'D_clients.csv',\n",
       " 'D_work.csv',\n",
       " 'D_job.csv',\n",
       " 'D_last_credit.csv']"
      ]
     },
     "execution_count": 4,
     "metadata": {},
     "output_type": "execute_result"
    }
   ],
   "source": [
    "datasets[0]"
   ]
  },
  {
   "cell_type": "code",
   "execution_count": 5,
   "id": "42b94aa4-66c6-458e-857e-d132c4344c6c",
   "metadata": {
    "tags": []
   },
   "outputs": [],
   "source": [
    "loans = pd.read_csv(f\"{my_path}/{datasets[0][0]}\")\n",
    "targets = pd.read_csv(f\"{my_path}/{datasets[0][1]}\")\n",
    "close_loan  = pd.read_csv(f\"{my_path}/{datasets[0][2]}\")\n",
    "salary = pd.read_csv(f\"{my_path}/{datasets[0][3]}\")\n",
    "pens = pd.read_csv(f\"{my_path}/{datasets[0][4]}\")\n",
    "clients = pd.read_csv(f\"{my_path}/{datasets[0][5]}\")\n",
    "work = pd.read_csv(f\"{my_path}/{datasets[0][6]}\")\n",
    "job = pd.read_csv(f\"{my_path}/{datasets[0][7]}\")\n",
    "last_credit  = pd.read_csv(f\"{my_path}/{datasets[0][8]}\")"
   ]
  },
  {
   "cell_type": "code",
   "execution_count": 238,
   "id": "94da7cf7-4860-48af-80db-c4ce4de7b30e",
   "metadata": {
    "collapsed": true,
    "jupyter": {
     "outputs_hidden": true
    },
    "tags": []
   },
   "outputs": [
    {
     "name": "stdout",
     "output_type": "stream",
     "text": [
      "loans\n",
      "      ID_LOAN  ID_CLIENT\n",
      "0  1753790658  106804370\n",
      "1  1753790659  106804371\n",
      "2  1753790660  106804372\n",
      "3  1753790661  106804372\n",
      "4  1753790662  106804373\n",
      "(21126, 2)\n",
      "Index(['ID_LOAN', 'ID_CLIENT'], dtype='object')\n",
      "targets\n",
      "   AGREEMENT_RK  ID_CLIENT  TARGET\n",
      "0      59910150  106804370       0\n",
      "1      59910230  106804371       0\n",
      "2      59910525  106804372       0\n",
      "3      59910803  106804373       0\n",
      "4      59911781  106804374       0\n",
      "(15223, 3)\n",
      "Index(['AGREEMENT_RK', 'ID_CLIENT', 'TARGET'], dtype='object')\n",
      "close_loan\n",
      "      ID_LOAN  CLOSED_FL\n",
      "0  1753790658          1\n",
      "1  1753790659          1\n",
      "2  1753790660          1\n",
      "3  1753790661          0\n",
      "4  1753790662          1\n",
      "(21126, 2)\n",
      "Index(['ID_LOAN', 'CLOSED_FL'], dtype='object')\n",
      "salary\n",
      "            FAMILY_INCOME  PERSONAL_INCOME  ID_CLIENT\n",
      "0  от 20000 до 50000 руб.          20000.0  106809321\n",
      "1  от 20000 до 50000 руб.          14000.0  106815561\n",
      "2  от 10000 до 20000 руб.          15000.0  106811521\n",
      "3  от 20000 до 50000 руб.          20000.0  106811252\n",
      "4  от 20000 до 50000 руб.          25000.0  106808620\n",
      "(15523, 3)\n",
      "Index(['FAMILY_INCOME', 'PERSONAL_INCOME', 'ID_CLIENT'], dtype='object')\n",
      "pens\n",
      "   ID  FLAG       COMMENT\n",
      "0   1     0     пенсионер\n",
      "1   2     1  не пенсионер\n",
      "(2, 3)\n",
      "Index(['ID', 'FLAG', 'COMMENT'], dtype='object')\n",
      "clients\n",
      "          ID  AGE  GENDER            EDUCATION      MARITAL_STATUS  \\\n",
      "0  106805103   42       1              Среднее  Не состоял в браке   \n",
      "1  106809308   28       1  Среднее специальное      Состою в браке   \n",
      "2  106805867   64       0  Среднее специальное      Состою в браке   \n",
      "3  106808779   54       1  Среднее специальное      Состою в браке   \n",
      "4  106814289   26       0  Среднее специальное      Состою в браке   \n",
      "\n",
      "   CHILD_TOTAL  DEPENDANTS  SOCSTATUS_WORK_FL  SOCSTATUS_PENS_FL  \\\n",
      "0            1           0                  1                  0   \n",
      "1            1           1                  1                  0   \n",
      "2            2           0                  1                  1   \n",
      "3            0           0                  1                  0   \n",
      "4            1           1                  1                  0   \n",
      "\n",
      "    REG_ADDRESS_PROVINCE  FACT_ADDRESS_PROVINCE POSTAL_ADDRESS_PROVINCE  \\\n",
      "0     Московская область     Московская область      Московская область   \n",
      "1      Читинская область      Читинская область       Читинская область   \n",
      "2      Иркутская область      Иркутская область       Иркутская область   \n",
      "3  Новосибирская область  Новосибирская область   Новосибирская область   \n",
      "4      Красноярский край      Красноярский край       Красноярский край   \n",
      "\n",
      "   FL_PRESENCE_FL  OWN_AUTO  \n",
      "0               1         0  \n",
      "1               0         0  \n",
      "2               0         1  \n",
      "3               1         1  \n",
      "4               1         0  \n",
      "(16000, 14)\n",
      "Index(['ID', 'AGE', 'GENDER', 'EDUCATION', 'MARITAL_STATUS', 'CHILD_TOTAL',\n",
      "       'DEPENDANTS', 'SOCSTATUS_WORK_FL', 'SOCSTATUS_PENS_FL',\n",
      "       'REG_ADDRESS_PROVINCE', 'FACT_ADDRESS_PROVINCE',\n",
      "       'POSTAL_ADDRESS_PROVINCE', 'FL_PRESENCE_FL', 'OWN_AUTO'],\n",
      "      dtype='object')\n",
      "work\n",
      "   ID  FLAG      COMMENT\n",
      "0   1     0     работает\n",
      "1   2     1  не работает\n",
      "2   3     2  не известно\n",
      "(3, 3)\n",
      "Index(['ID', 'FLAG', 'COMMENT'], dtype='object')\n",
      "job\n",
      "                GEN_INDUSTRY                    GEN_TITLE  \\\n",
      "0                   Торговля                      Рабочий   \n",
      "1                   Торговля                      Рабочий   \n",
      "2  Информационные технологии                   Специалист   \n",
      "3                Образование  Руководитель среднего звена   \n",
      "4     Государственная служба                   Специалист   \n",
      "\n",
      "                         JOB_DIR  WORK_TIME  ID_CLIENT  \n",
      "0    Вспомогательный техперсонал       18.0  106804370  \n",
      "1  Участие в основ. деятельности       97.0  106804371  \n",
      "2  Участие в основ. деятельности       84.0  106804372  \n",
      "3  Участие в основ. деятельности      168.0  106804373  \n",
      "4  Участие в основ. деятельности      101.0  106804374  \n",
      "(15223, 5)\n",
      "Index(['GEN_INDUSTRY', 'GEN_TITLE', 'JOB_DIR', 'WORK_TIME', 'ID_CLIENT'], dtype='object')\n",
      "last_credit\n",
      "     CREDIT  TERM  FST_PAYMENT  ID_CLIENT\n",
      "0   8000.00     6       8650.0  106804370\n",
      "1  21650.00     6       4000.0  106804371\n",
      "2  33126.00    12       4000.0  106804372\n",
      "3   8491.82     6       5000.0  106804373\n",
      "4  21990.00    12       4000.0  106804374\n",
      "(15223, 4)\n",
      "Index(['CREDIT', 'TERM', 'FST_PAYMENT', 'ID_CLIENT'], dtype='object')\n"
     ]
    }
   ],
   "source": [
    "print('loans')\n",
    "print(loans.head())\n",
    "print(loans.shape)\n",
    "print(loans.columns)\n",
    "\n",
    "print('targets')\n",
    "print(targets.head())\n",
    "print(targets.shape)\n",
    "print(targets.columns)\n",
    "\n",
    "print('close_loan')\n",
    "print(close_loan.head())\n",
    "print(close_loan.shape)\n",
    "print(close_loan.columns)\n",
    "\n",
    "print('salary')\n",
    "print(salary.head())\n",
    "print(salary.shape)\n",
    "print(salary.columns)\n",
    "\n",
    "print('pens')\n",
    "print(pens.head())\n",
    "print(pens.shape)\n",
    "print(pens.columns)\n",
    "\n",
    "print('clients')\n",
    "print(clients.head())\n",
    "print(clients.shape)\n",
    "print(clients.columns)\n",
    "\n",
    "print('work')\n",
    "print(work.head())\n",
    "print(work.shape)\n",
    "print(work.columns)\n",
    "\n",
    "print('job')\n",
    "print(job.head())\n",
    "print(job.shape)\n",
    "print(job.columns)\n",
    "\n",
    "print('last_credit')\n",
    "print(last_credit.head())\n",
    "print(last_credit.shape)\n",
    "print(last_credit.columns)"
   ]
  },
  {
   "cell_type": "code",
   "execution_count": 6,
   "id": "e46c2591-b692-4bf1-be94-2e6dc0cfc118",
   "metadata": {
    "tags": []
   },
   "outputs": [
    {
     "data": {
      "text/html": [
       "<div>\n",
       "<style scoped>\n",
       "    .dataframe tbody tr th:only-of-type {\n",
       "        vertical-align: middle;\n",
       "    }\n",
       "\n",
       "    .dataframe tbody tr th {\n",
       "        vertical-align: top;\n",
       "    }\n",
       "\n",
       "    .dataframe thead th {\n",
       "        text-align: right;\n",
       "    }\n",
       "</style>\n",
       "<table border=\"1\" class=\"dataframe\">\n",
       "  <thead>\n",
       "    <tr style=\"text-align: right;\">\n",
       "      <th></th>\n",
       "      <th>ID</th>\n",
       "      <th>AGE</th>\n",
       "      <th>GENDER</th>\n",
       "      <th>EDUCATION</th>\n",
       "      <th>MARITAL_STATUS</th>\n",
       "      <th>CHILD_TOTAL</th>\n",
       "      <th>DEPENDANTS</th>\n",
       "      <th>SOCSTATUS_WORK_FL</th>\n",
       "      <th>SOCSTATUS_PENS_FL</th>\n",
       "      <th>REG_ADDRESS_PROVINCE</th>\n",
       "      <th>FACT_ADDRESS_PROVINCE</th>\n",
       "      <th>POSTAL_ADDRESS_PROVINCE</th>\n",
       "      <th>FL_PRESENCE_FL</th>\n",
       "      <th>OWN_AUTO</th>\n",
       "    </tr>\n",
       "  </thead>\n",
       "  <tbody>\n",
       "    <tr>\n",
       "      <th>0</th>\n",
       "      <td>106805103</td>\n",
       "      <td>42</td>\n",
       "      <td>1</td>\n",
       "      <td>Среднее</td>\n",
       "      <td>Не состоял в браке</td>\n",
       "      <td>1</td>\n",
       "      <td>0</td>\n",
       "      <td>1</td>\n",
       "      <td>0</td>\n",
       "      <td>Московская область</td>\n",
       "      <td>Московская область</td>\n",
       "      <td>Московская область</td>\n",
       "      <td>1</td>\n",
       "      <td>0</td>\n",
       "    </tr>\n",
       "    <tr>\n",
       "      <th>1</th>\n",
       "      <td>106809308</td>\n",
       "      <td>28</td>\n",
       "      <td>1</td>\n",
       "      <td>Среднее специальное</td>\n",
       "      <td>Состою в браке</td>\n",
       "      <td>1</td>\n",
       "      <td>1</td>\n",
       "      <td>1</td>\n",
       "      <td>0</td>\n",
       "      <td>Читинская область</td>\n",
       "      <td>Читинская область</td>\n",
       "      <td>Читинская область</td>\n",
       "      <td>0</td>\n",
       "      <td>0</td>\n",
       "    </tr>\n",
       "    <tr>\n",
       "      <th>2</th>\n",
       "      <td>106805867</td>\n",
       "      <td>64</td>\n",
       "      <td>0</td>\n",
       "      <td>Среднее специальное</td>\n",
       "      <td>Состою в браке</td>\n",
       "      <td>2</td>\n",
       "      <td>0</td>\n",
       "      <td>1</td>\n",
       "      <td>1</td>\n",
       "      <td>Иркутская область</td>\n",
       "      <td>Иркутская область</td>\n",
       "      <td>Иркутская область</td>\n",
       "      <td>0</td>\n",
       "      <td>1</td>\n",
       "    </tr>\n",
       "    <tr>\n",
       "      <th>3</th>\n",
       "      <td>106808779</td>\n",
       "      <td>54</td>\n",
       "      <td>1</td>\n",
       "      <td>Среднее специальное</td>\n",
       "      <td>Состою в браке</td>\n",
       "      <td>0</td>\n",
       "      <td>0</td>\n",
       "      <td>1</td>\n",
       "      <td>0</td>\n",
       "      <td>Новосибирская область</td>\n",
       "      <td>Новосибирская область</td>\n",
       "      <td>Новосибирская область</td>\n",
       "      <td>1</td>\n",
       "      <td>1</td>\n",
       "    </tr>\n",
       "    <tr>\n",
       "      <th>4</th>\n",
       "      <td>106814289</td>\n",
       "      <td>26</td>\n",
       "      <td>0</td>\n",
       "      <td>Среднее специальное</td>\n",
       "      <td>Состою в браке</td>\n",
       "      <td>1</td>\n",
       "      <td>1</td>\n",
       "      <td>1</td>\n",
       "      <td>0</td>\n",
       "      <td>Красноярский край</td>\n",
       "      <td>Красноярский край</td>\n",
       "      <td>Красноярский край</td>\n",
       "      <td>1</td>\n",
       "      <td>0</td>\n",
       "    </tr>\n",
       "  </tbody>\n",
       "</table>\n",
       "</div>"
      ],
      "text/plain": [
       "          ID  AGE  GENDER            EDUCATION      MARITAL_STATUS  \\\n",
       "0  106805103   42       1              Среднее  Не состоял в браке   \n",
       "1  106809308   28       1  Среднее специальное      Состою в браке   \n",
       "2  106805867   64       0  Среднее специальное      Состою в браке   \n",
       "3  106808779   54       1  Среднее специальное      Состою в браке   \n",
       "4  106814289   26       0  Среднее специальное      Состою в браке   \n",
       "\n",
       "   CHILD_TOTAL  DEPENDANTS  SOCSTATUS_WORK_FL  SOCSTATUS_PENS_FL  \\\n",
       "0            1           0                  1                  0   \n",
       "1            1           1                  1                  0   \n",
       "2            2           0                  1                  1   \n",
       "3            0           0                  1                  0   \n",
       "4            1           1                  1                  0   \n",
       "\n",
       "    REG_ADDRESS_PROVINCE  FACT_ADDRESS_PROVINCE POSTAL_ADDRESS_PROVINCE  \\\n",
       "0     Московская область     Московская область      Московская область   \n",
       "1      Читинская область      Читинская область       Читинская область   \n",
       "2      Иркутская область      Иркутская область       Иркутская область   \n",
       "3  Новосибирская область  Новосибирская область   Новосибирская область   \n",
       "4      Красноярский край      Красноярский край       Красноярский край   \n",
       "\n",
       "   FL_PRESENCE_FL  OWN_AUTO  \n",
       "0               1         0  \n",
       "1               0         0  \n",
       "2               0         1  \n",
       "3               1         1  \n",
       "4               1         0  "
      ]
     },
     "execution_count": 6,
     "metadata": {},
     "output_type": "execute_result"
    }
   ],
   "source": [
    "clients.head()"
   ]
  },
  {
   "cell_type": "code",
   "execution_count": 7,
   "id": "2c020725-2858-40a1-aaf5-67f336dea2d6",
   "metadata": {
    "tags": []
   },
   "outputs": [
    {
     "data": {
      "text/html": [
       "<div>\n",
       "<style scoped>\n",
       "    .dataframe tbody tr th:only-of-type {\n",
       "        vertical-align: middle;\n",
       "    }\n",
       "\n",
       "    .dataframe tbody tr th {\n",
       "        vertical-align: top;\n",
       "    }\n",
       "\n",
       "    .dataframe thead th {\n",
       "        text-align: right;\n",
       "    }\n",
       "</style>\n",
       "<table border=\"1\" class=\"dataframe\">\n",
       "  <thead>\n",
       "    <tr style=\"text-align: right;\">\n",
       "      <th></th>\n",
       "      <th>ID</th>\n",
       "      <th>AGE</th>\n",
       "      <th>GENDER</th>\n",
       "      <th>EDUCATION</th>\n",
       "      <th>MARITAL_STATUS</th>\n",
       "      <th>CHILD_TOTAL</th>\n",
       "      <th>DEPENDANTS</th>\n",
       "      <th>SOCSTATUS_WORK_FL</th>\n",
       "      <th>SOCSTATUS_PENS_FL</th>\n",
       "      <th>REG_ADDRESS_PROVINCE</th>\n",
       "      <th>FACT_ADDRESS_PROVINCE</th>\n",
       "      <th>POSTAL_ADDRESS_PROVINCE</th>\n",
       "      <th>FL_PRESENCE_FL</th>\n",
       "      <th>OWN_AUTO</th>\n",
       "    </tr>\n",
       "  </thead>\n",
       "  <tbody>\n",
       "  </tbody>\n",
       "</table>\n",
       "</div>"
      ],
      "text/plain": [
       "Empty DataFrame\n",
       "Columns: [ID, AGE, GENDER, EDUCATION, MARITAL_STATUS, CHILD_TOTAL, DEPENDANTS, SOCSTATUS_WORK_FL, SOCSTATUS_PENS_FL, REG_ADDRESS_PROVINCE, FACT_ADDRESS_PROVINCE, POSTAL_ADDRESS_PROVINCE, FL_PRESENCE_FL, OWN_AUTO]\n",
       "Index: []"
      ]
     },
     "execution_count": 7,
     "metadata": {},
     "output_type": "execute_result"
    }
   ],
   "source": [
    "clients[clients.duplicated('ID')] # нет дубликатов"
   ]
  },
  {
   "cell_type": "code",
   "execution_count": 8,
   "id": "5f56199e-55f3-4ef9-8516-1f2c5aefe459",
   "metadata": {
    "tags": []
   },
   "outputs": [
    {
     "name": "stdout",
     "output_type": "stream",
     "text": [
      "(22312, 27)\n"
     ]
    },
    {
     "data": {
      "text/html": [
       "<div>\n",
       "<style scoped>\n",
       "    .dataframe tbody tr th:only-of-type {\n",
       "        vertical-align: middle;\n",
       "    }\n",
       "\n",
       "    .dataframe tbody tr th {\n",
       "        vertical-align: top;\n",
       "    }\n",
       "\n",
       "    .dataframe thead th {\n",
       "        text-align: right;\n",
       "    }\n",
       "</style>\n",
       "<table border=\"1\" class=\"dataframe\">\n",
       "  <thead>\n",
       "    <tr style=\"text-align: right;\">\n",
       "      <th></th>\n",
       "      <th>ID</th>\n",
       "      <th>AGE</th>\n",
       "      <th>GENDER</th>\n",
       "      <th>EDUCATION</th>\n",
       "      <th>MARITAL_STATUS</th>\n",
       "      <th>CHILD_TOTAL</th>\n",
       "      <th>DEPENDANTS</th>\n",
       "      <th>SOCSTATUS_WORK_FL</th>\n",
       "      <th>SOCSTATUS_PENS_FL</th>\n",
       "      <th>REG_ADDRESS_PROVINCE</th>\n",
       "      <th>...</th>\n",
       "      <th>GEN_TITLE</th>\n",
       "      <th>JOB_DIR</th>\n",
       "      <th>WORK_TIME</th>\n",
       "      <th>AGREEMENT_RK</th>\n",
       "      <th>TARGET</th>\n",
       "      <th>CREDIT</th>\n",
       "      <th>TERM</th>\n",
       "      <th>FST_PAYMENT</th>\n",
       "      <th>ID_LOAN</th>\n",
       "      <th>CLOSED_FL</th>\n",
       "    </tr>\n",
       "  </thead>\n",
       "  <tbody>\n",
       "    <tr>\n",
       "      <th>0</th>\n",
       "      <td>106805103</td>\n",
       "      <td>42</td>\n",
       "      <td>1</td>\n",
       "      <td>Среднее</td>\n",
       "      <td>Не состоял в браке</td>\n",
       "      <td>1</td>\n",
       "      <td>0</td>\n",
       "      <td>1</td>\n",
       "      <td>0</td>\n",
       "      <td>Московская область</td>\n",
       "      <td>...</td>\n",
       "      <td>Работник сферы услуг</td>\n",
       "      <td>Участие в основ. деятельности</td>\n",
       "      <td>3.0</td>\n",
       "      <td>60099204.0</td>\n",
       "      <td>1.0</td>\n",
       "      <td>5588.0</td>\n",
       "      <td>6.0</td>\n",
       "      <td>1000.0</td>\n",
       "      <td>1.753791e+09</td>\n",
       "      <td>0.0</td>\n",
       "    </tr>\n",
       "    <tr>\n",
       "      <th>1</th>\n",
       "      <td>106809308</td>\n",
       "      <td>28</td>\n",
       "      <td>1</td>\n",
       "      <td>Среднее специальное</td>\n",
       "      <td>Состою в браке</td>\n",
       "      <td>1</td>\n",
       "      <td>1</td>\n",
       "      <td>1</td>\n",
       "      <td>0</td>\n",
       "      <td>Читинская область</td>\n",
       "      <td>...</td>\n",
       "      <td>Специалист</td>\n",
       "      <td>Участие в основ. деятельности</td>\n",
       "      <td>5.0</td>\n",
       "      <td>62244665.0</td>\n",
       "      <td>0.0</td>\n",
       "      <td>19498.0</td>\n",
       "      <td>12.0</td>\n",
       "      <td>0.0</td>\n",
       "      <td>1.753796e+09</td>\n",
       "      <td>0.0</td>\n",
       "    </tr>\n",
       "    <tr>\n",
       "      <th>2</th>\n",
       "      <td>106805867</td>\n",
       "      <td>64</td>\n",
       "      <td>0</td>\n",
       "      <td>Среднее специальное</td>\n",
       "      <td>Состою в браке</td>\n",
       "      <td>2</td>\n",
       "      <td>0</td>\n",
       "      <td>1</td>\n",
       "      <td>1</td>\n",
       "      <td>Иркутская область</td>\n",
       "      <td>...</td>\n",
       "      <td>Руководитель высшего звена</td>\n",
       "      <td>Участие в основ. деятельности</td>\n",
       "      <td>360.0</td>\n",
       "      <td>61050759.0</td>\n",
       "      <td>0.0</td>\n",
       "      <td>15470.0</td>\n",
       "      <td>3.0</td>\n",
       "      <td>15000.0</td>\n",
       "      <td>1.753792e+09</td>\n",
       "      <td>1.0</td>\n",
       "    </tr>\n",
       "    <tr>\n",
       "      <th>3</th>\n",
       "      <td>106808779</td>\n",
       "      <td>54</td>\n",
       "      <td>1</td>\n",
       "      <td>Среднее специальное</td>\n",
       "      <td>Состою в браке</td>\n",
       "      <td>0</td>\n",
       "      <td>0</td>\n",
       "      <td>1</td>\n",
       "      <td>0</td>\n",
       "      <td>Новосибирская область</td>\n",
       "      <td>...</td>\n",
       "      <td>Специалист</td>\n",
       "      <td>Участие в основ. деятельности</td>\n",
       "      <td>3.0</td>\n",
       "      <td>62079659.0</td>\n",
       "      <td>0.0</td>\n",
       "      <td>13960.0</td>\n",
       "      <td>6.0</td>\n",
       "      <td>2500.0</td>\n",
       "      <td>1.753796e+09</td>\n",
       "      <td>0.0</td>\n",
       "    </tr>\n",
       "    <tr>\n",
       "      <th>4</th>\n",
       "      <td>106814289</td>\n",
       "      <td>26</td>\n",
       "      <td>0</td>\n",
       "      <td>Среднее специальное</td>\n",
       "      <td>Состою в браке</td>\n",
       "      <td>1</td>\n",
       "      <td>1</td>\n",
       "      <td>1</td>\n",
       "      <td>0</td>\n",
       "      <td>Красноярский край</td>\n",
       "      <td>...</td>\n",
       "      <td>Специалист</td>\n",
       "      <td>Участие в основ. деятельности</td>\n",
       "      <td>12.0</td>\n",
       "      <td>66583553.0</td>\n",
       "      <td>0.0</td>\n",
       "      <td>11890.0</td>\n",
       "      <td>6.0</td>\n",
       "      <td>8000.0</td>\n",
       "      <td>1.753802e+09</td>\n",
       "      <td>1.0</td>\n",
       "    </tr>\n",
       "  </tbody>\n",
       "</table>\n",
       "<p>5 rows × 27 columns</p>\n",
       "</div>"
      ],
      "text/plain": [
       "          ID  AGE  GENDER            EDUCATION      MARITAL_STATUS  \\\n",
       "0  106805103   42       1              Среднее  Не состоял в браке   \n",
       "1  106809308   28       1  Среднее специальное      Состою в браке   \n",
       "2  106805867   64       0  Среднее специальное      Состою в браке   \n",
       "3  106808779   54       1  Среднее специальное      Состою в браке   \n",
       "4  106814289   26       0  Среднее специальное      Состою в браке   \n",
       "\n",
       "   CHILD_TOTAL  DEPENDANTS  SOCSTATUS_WORK_FL  SOCSTATUS_PENS_FL  \\\n",
       "0            1           0                  1                  0   \n",
       "1            1           1                  1                  0   \n",
       "2            2           0                  1                  1   \n",
       "3            0           0                  1                  0   \n",
       "4            1           1                  1                  0   \n",
       "\n",
       "    REG_ADDRESS_PROVINCE  ...                   GEN_TITLE  \\\n",
       "0     Московская область  ...        Работник сферы услуг   \n",
       "1      Читинская область  ...                  Специалист   \n",
       "2      Иркутская область  ...  Руководитель высшего звена   \n",
       "3  Новосибирская область  ...                  Специалист   \n",
       "4      Красноярский край  ...                  Специалист   \n",
       "\n",
       "                         JOB_DIR  WORK_TIME  AGREEMENT_RK TARGET   CREDIT  \\\n",
       "0  Участие в основ. деятельности        3.0    60099204.0    1.0   5588.0   \n",
       "1  Участие в основ. деятельности        5.0    62244665.0    0.0  19498.0   \n",
       "2  Участие в основ. деятельности      360.0    61050759.0    0.0  15470.0   \n",
       "3  Участие в основ. деятельности        3.0    62079659.0    0.0  13960.0   \n",
       "4  Участие в основ. деятельности       12.0    66583553.0    0.0  11890.0   \n",
       "\n",
       "   TERM FST_PAYMENT       ID_LOAN  CLOSED_FL  \n",
       "0   6.0      1000.0  1.753791e+09        0.0  \n",
       "1  12.0         0.0  1.753796e+09        0.0  \n",
       "2   3.0     15000.0  1.753792e+09        1.0  \n",
       "3   6.0      2500.0  1.753796e+09        0.0  \n",
       "4   6.0      8000.0  1.753802e+09        1.0  \n",
       "\n",
       "[5 rows x 27 columns]"
      ]
     },
     "execution_count": 8,
     "metadata": {},
     "output_type": "execute_result"
    }
   ],
   "source": [
    "merged_df = pd.merge(clients, salary.set_index('ID_CLIENT'), left_on='ID', right_on='ID_CLIENT', how='left')\n",
    "merged_df = pd.merge(merged_df, job.set_index('ID_CLIENT'), left_on='ID', right_on='ID_CLIENT', how='left')\n",
    "merged_df = pd.merge(merged_df, targets.set_index('ID_CLIENT'), left_on='ID', right_on='ID_CLIENT', how='left')\n",
    "merged_df = pd.merge(merged_df, last_credit.set_index('ID_CLIENT'), left_on='ID', right_on='ID_CLIENT', how='left')\n",
    "merged_df = pd.merge(merged_df, loans.set_index('ID_CLIENT'), left_on='ID', right_on='ID_CLIENT', how='left')\n",
    "merged_df = pd.merge(merged_df, close_loan, on='ID_LOAN', how='left')\n",
    "print(merged_df.shape)\n",
    "merged_df.head()"
   ]
  },
  {
   "cell_type": "code",
   "execution_count": 9,
   "id": "f176b8fe-4509-4ab0-afd8-1db64363b6f2",
   "metadata": {
    "tags": []
   },
   "outputs": [
    {
     "data": {
      "text/plain": [
       "(22312, 27)"
      ]
     },
     "execution_count": 9,
     "metadata": {},
     "output_type": "execute_result"
    }
   ],
   "source": [
    "merged_df.shape"
   ]
  },
  {
   "cell_type": "code",
   "execution_count": 10,
   "id": "b3b301c2-9328-4e4d-8fe7-381bd3d58f1c",
   "metadata": {
    "tags": []
   },
   "outputs": [
    {
     "data": {
      "text/plain": [
       "(21903, 27)"
      ]
     },
     "execution_count": 10,
     "metadata": {},
     "output_type": "execute_result"
    }
   ],
   "source": [
    "# удаление дубликатов\n",
    "df = merged_df[~merged_df.duplicated()]\n",
    "df.shape"
   ]
  },
  {
   "cell_type": "code",
   "execution_count": 11,
   "id": "26e01e00-99d6-44c5-b413-498f93189aa4",
   "metadata": {
    "tags": []
   },
   "outputs": [
    {
     "data": {
      "text/plain": [
       "Index(['ID', 'AGE', 'GENDER', 'EDUCATION', 'MARITAL_STATUS', 'CHILD_TOTAL',\n",
       "       'DEPENDANTS', 'SOCSTATUS_WORK_FL', 'SOCSTATUS_PENS_FL',\n",
       "       'REG_ADDRESS_PROVINCE', 'FACT_ADDRESS_PROVINCE',\n",
       "       'POSTAL_ADDRESS_PROVINCE', 'FL_PRESENCE_FL', 'OWN_AUTO',\n",
       "       'FAMILY_INCOME', 'PERSONAL_INCOME', 'GEN_INDUSTRY', 'GEN_TITLE',\n",
       "       'JOB_DIR', 'WORK_TIME', 'AGREEMENT_RK', 'TARGET', 'CREDIT', 'TERM',\n",
       "       'FST_PAYMENT', 'ID_LOAN', 'CLOSED_FL'],\n",
       "      dtype='object')"
      ]
     },
     "execution_count": 11,
     "metadata": {},
     "output_type": "execute_result"
    }
   ],
   "source": [
    "df.columns"
   ]
  },
  {
   "cell_type": "code",
   "execution_count": 12,
   "id": "81ddf287-feda-46a0-b748-fb36f152c5ad",
   "metadata": {
    "tags": []
   },
   "outputs": [
    {
     "data": {
      "text/plain": [
       "ID                            0\n",
       "AGE                           0\n",
       "GENDER                        0\n",
       "EDUCATION                     0\n",
       "MARITAL_STATUS                0\n",
       "CHILD_TOTAL                   0\n",
       "DEPENDANTS                    0\n",
       "SOCSTATUS_WORK_FL             0\n",
       "SOCSTATUS_PENS_FL             0\n",
       "REG_ADDRESS_PROVINCE          0\n",
       "FACT_ADDRESS_PROVINCE         0\n",
       "POSTAL_ADDRESS_PROVINCE       0\n",
       "FL_PRESENCE_FL                0\n",
       "OWN_AUTO                      0\n",
       "FAMILY_INCOME               777\n",
       "PERSONAL_INCOME             777\n",
       "GEN_INDUSTRY               2540\n",
       "GEN_TITLE                  2540\n",
       "JOB_DIR                    2540\n",
       "WORK_TIME                  2544\n",
       "AGREEMENT_RK                777\n",
       "TARGET                      777\n",
       "CREDIT                      777\n",
       "TERM                        777\n",
       "FST_PAYMENT                 777\n",
       "ID_LOAN                     777\n",
       "CLOSED_FL                   777\n",
       "dtype: int64"
      ]
     },
     "execution_count": 12,
     "metadata": {},
     "output_type": "execute_result"
    }
   ],
   "source": [
    "df.isna().sum()"
   ]
  },
  {
   "cell_type": "code",
   "execution_count": 13,
   "id": "4069d3c7-da33-4633-91d8-3ef139ea2e5b",
   "metadata": {
    "tags": []
   },
   "outputs": [
    {
     "name": "stdout",
     "output_type": "stream",
     "text": [
      "<class 'pandas.core.frame.DataFrame'>\n",
      "Int64Index: 21903 entries, 0 to 22311\n",
      "Data columns (total 27 columns):\n",
      " #   Column                   Non-Null Count  Dtype  \n",
      "---  ------                   --------------  -----  \n",
      " 0   ID                       21903 non-null  int64  \n",
      " 1   AGE                      21903 non-null  int64  \n",
      " 2   GENDER                   21903 non-null  int64  \n",
      " 3   EDUCATION                21903 non-null  object \n",
      " 4   MARITAL_STATUS           21903 non-null  object \n",
      " 5   CHILD_TOTAL              21903 non-null  int64  \n",
      " 6   DEPENDANTS               21903 non-null  int64  \n",
      " 7   SOCSTATUS_WORK_FL        21903 non-null  int64  \n",
      " 8   SOCSTATUS_PENS_FL        21903 non-null  int64  \n",
      " 9   REG_ADDRESS_PROVINCE     21903 non-null  object \n",
      " 10  FACT_ADDRESS_PROVINCE    21903 non-null  object \n",
      " 11  POSTAL_ADDRESS_PROVINCE  21903 non-null  object \n",
      " 12  FL_PRESENCE_FL           21903 non-null  int64  \n",
      " 13  OWN_AUTO                 21903 non-null  int64  \n",
      " 14  FAMILY_INCOME            21126 non-null  object \n",
      " 15  PERSONAL_INCOME          21126 non-null  float64\n",
      " 16  GEN_INDUSTRY             19363 non-null  object \n",
      " 17  GEN_TITLE                19363 non-null  object \n",
      " 18  JOB_DIR                  19363 non-null  object \n",
      " 19  WORK_TIME                19359 non-null  float64\n",
      " 20  AGREEMENT_RK             21126 non-null  float64\n",
      " 21  TARGET                   21126 non-null  float64\n",
      " 22  CREDIT                   21126 non-null  float64\n",
      " 23  TERM                     21126 non-null  float64\n",
      " 24  FST_PAYMENT              21126 non-null  float64\n",
      " 25  ID_LOAN                  21126 non-null  float64\n",
      " 26  CLOSED_FL                21126 non-null  float64\n",
      "dtypes: float64(9), int64(9), object(9)\n",
      "memory usage: 4.7+ MB\n"
     ]
    }
   ],
   "source": [
    "df.info()"
   ]
  },
  {
   "cell_type": "code",
   "execution_count": 250,
   "id": "3b9662f8-7cf0-4f9c-be05-01bf84558a7e",
   "metadata": {
    "tags": []
   },
   "outputs": [
    {
     "data": {
      "text/plain": [
       "False"
      ]
     },
     "execution_count": 250,
     "metadata": {},
     "output_type": "execute_result"
    }
   ],
   "source": [
    "df[~df.duplicated('ID')].shape[0] == df.shape[0] # видим дубликаты есть, некоторые люди брали больше 1 займа"
   ]
  },
  {
   "cell_type": "code",
   "execution_count": 14,
   "id": "a798a6f8-bb1a-4164-b814-c614773ffa3d",
   "metadata": {
    "tags": []
   },
   "outputs": [],
   "source": [
    "loans = df.groupby('ID')['ID_LOAN'].nunique().reset_index().rename({'ID_LOAN':'N_LOANS'}, axis=1).sort_values('N_LOANS', ascending=False)\n",
    "loans[\"N_LOANS\"].replace(0,1,inplace=True)"
   ]
  },
  {
   "cell_type": "code",
   "execution_count": 15,
   "id": "ef36a4ab-f198-4174-8948-44d4d9d208b0",
   "metadata": {
    "tags": []
   },
   "outputs": [
    {
     "data": {
      "text/html": [
       "<div>\n",
       "<style scoped>\n",
       "    .dataframe tbody tr th:only-of-type {\n",
       "        vertical-align: middle;\n",
       "    }\n",
       "\n",
       "    .dataframe tbody tr th {\n",
       "        vertical-align: top;\n",
       "    }\n",
       "\n",
       "    .dataframe thead th {\n",
       "        text-align: right;\n",
       "    }\n",
       "</style>\n",
       "<table border=\"1\" class=\"dataframe\">\n",
       "  <thead>\n",
       "    <tr style=\"text-align: right;\">\n",
       "      <th></th>\n",
       "      <th>ID</th>\n",
       "      <th>N_LOANS</th>\n",
       "    </tr>\n",
       "  </thead>\n",
       "  <tbody>\n",
       "  </tbody>\n",
       "</table>\n",
       "</div>"
      ],
      "text/plain": [
       "Empty DataFrame\n",
       "Columns: [ID, N_LOANS]\n",
       "Index: []"
      ]
     },
     "execution_count": 15,
     "metadata": {},
     "output_type": "execute_result"
    }
   ],
   "source": [
    "loans[loans[\"N_LOANS\"]==0]"
   ]
  },
  {
   "cell_type": "code",
   "execution_count": 16,
   "id": "632553d2-6096-4bcd-a882-3d30518e0ea7",
   "metadata": {
    "tags": []
   },
   "outputs": [
    {
     "data": {
      "text/plain": [
       "ID                            0\n",
       "AGE                           0\n",
       "GENDER                        0\n",
       "EDUCATION                     0\n",
       "MARITAL_STATUS                0\n",
       "CHILD_TOTAL                   0\n",
       "DEPENDANTS                    0\n",
       "SOCSTATUS_WORK_FL             0\n",
       "SOCSTATUS_PENS_FL             0\n",
       "REG_ADDRESS_PROVINCE          0\n",
       "FACT_ADDRESS_PROVINCE         0\n",
       "POSTAL_ADDRESS_PROVINCE       0\n",
       "FL_PRESENCE_FL                0\n",
       "OWN_AUTO                      0\n",
       "FAMILY_INCOME               777\n",
       "PERSONAL_INCOME             777\n",
       "GEN_INDUSTRY               2540\n",
       "GEN_TITLE                  2540\n",
       "JOB_DIR                    2540\n",
       "WORK_TIME                  2544\n",
       "AGREEMENT_RK                777\n",
       "TARGET                      777\n",
       "CREDIT                      777\n",
       "TERM                        777\n",
       "FST_PAYMENT                 777\n",
       "ID_LOAN                     777\n",
       "CLOSED_FL                   777\n",
       "N_LOANS                       0\n",
       "dtype: int64"
      ]
     },
     "execution_count": 16,
     "metadata": {},
     "output_type": "execute_result"
    }
   ],
   "source": [
    "df = df.merge(loans, 'left')\n",
    "df.isna().sum()"
   ]
  },
  {
   "cell_type": "code",
   "execution_count": 21,
   "id": "c133fa11-0b06-4a00-a515-60f3206c5fbc",
   "metadata": {
    "tags": []
   },
   "outputs": [
    {
     "data": {
      "text/plain": [
       "(16000, 28)"
      ]
     },
     "execution_count": 21,
     "metadata": {},
     "output_type": "execute_result"
    }
   ],
   "source": [
    "df = df[~df.duplicated('ID')]\n",
    "df.shape"
   ]
  },
  {
   "cell_type": "markdown",
   "id": "e0575a4c-e178-4b55-aa29-7eb856ee51f9",
   "metadata": {},
   "source": [
    "Много колонок с int и float типами, которые на самом деле являются категориальными"
   ]
  },
  {
   "cell_type": "code",
   "execution_count": 22,
   "id": "34a412f2-e708-4f56-8936-3c89687323b0",
   "metadata": {
    "tags": []
   },
   "outputs": [],
   "source": [
    "to_category = ['CHILD_TOTAL', 'DEPENDANTS', 'SOCSTATUS_WORK_FL', 'SOCSTATUS_PENS_FL', 'FL_PRESENCE_FL', 'OWN_AUTO', 'TERM','TARGET', 'N_LOANS']"
   ]
  },
  {
   "cell_type": "code",
   "execution_count": 46,
   "id": "2c2a553d-c1a2-4632-8dce-0c284133735b",
   "metadata": {
    "tags": []
   },
   "outputs": [
    {
     "data": {
      "text/plain": [
       "1950.0"
      ]
     },
     "execution_count": 46,
     "metadata": {},
     "output_type": "execute_result"
    }
   ],
   "source": [
    "min(df.PERSONAL_INCOME)"
   ]
  },
  {
   "cell_type": "code",
   "execution_count": 45,
   "id": "e1a66c91-4d79-465d-8933-ac6dd738590b",
   "metadata": {
    "tags": []
   },
   "outputs": [],
   "source": [
    "df.loc[4632,\"PERSONAL_INCOME\"] = df.loc[4632,\"PERSONAL_INCOME\"] * 1000"
   ]
  },
  {
   "cell_type": "code",
   "execution_count": 49,
   "id": "46239527-7ebe-45aa-8ffa-30789521a754",
   "metadata": {
    "tags": []
   },
   "outputs": [
    {
     "data": {
      "text/plain": [
       "AGE                                                   28\n",
       "GENDER                                                 0\n",
       "EDUCATION                                        Среднее\n",
       "MARITAL_STATUS                            Состою в браке\n",
       "CHILD_TOTAL                                            1\n",
       "DEPENDANTS                                             1\n",
       "SOCSTATUS_WORK_FL                                      1\n",
       "SOCSTATUS_PENS_FL                                      0\n",
       "REG_ADDRESS_PROVINCE                   Читинская область\n",
       "FACT_ADDRESS_PROVINCE                  Читинская область\n",
       "POSTAL_ADDRESS_PROVINCE                Читинская область\n",
       "FL_PRESENCE_FL                                         0\n",
       "OWN_AUTO                                               1\n",
       "FAMILY_INCOME                     от 20000 до 50000 руб.\n",
       "PERSONAL_INCOME                                  24000.0\n",
       "GEN_INDUSTRY                      Государственная служба\n",
       "GEN_TITLE                    Военнослужащий по контракту\n",
       "JOB_DIR                    Участие в основ. деятельности\n",
       "WORK_TIME                                           45.0\n",
       "TARGET                                               0.0\n",
       "CREDIT                                           63306.0\n",
       "TERM                                                18.0\n",
       "FST_PAYMENT                                       7034.0\n",
       "CLOSED_FL                                            0.0\n",
       "N_LOANS                                                1\n",
       "Name: 4632, dtype: object"
      ]
     },
     "execution_count": 49,
     "metadata": {},
     "output_type": "execute_result"
    }
   ],
   "source": [
    "df.loc[4632,:]"
   ]
  },
  {
   "cell_type": "code",
   "execution_count": 23,
   "id": "7a09b6c4-a910-4216-8d69-3745bba79871",
   "metadata": {
    "tags": []
   },
   "outputs": [
    {
     "name": "stdout",
     "output_type": "stream",
     "text": [
      "<class 'pandas.core.frame.DataFrame'>\n",
      "Int64Index: 16000 entries, 0 to 21902\n",
      "Data columns (total 28 columns):\n",
      " #   Column                   Non-Null Count  Dtype   \n",
      "---  ------                   --------------  -----   \n",
      " 0   ID                       16000 non-null  int64   \n",
      " 1   AGE                      16000 non-null  int64   \n",
      " 2   GENDER                   16000 non-null  int64   \n",
      " 3   EDUCATION                16000 non-null  category\n",
      " 4   MARITAL_STATUS           16000 non-null  category\n",
      " 5   CHILD_TOTAL              16000 non-null  category\n",
      " 6   DEPENDANTS               16000 non-null  category\n",
      " 7   SOCSTATUS_WORK_FL        16000 non-null  category\n",
      " 8   SOCSTATUS_PENS_FL        16000 non-null  category\n",
      " 9   REG_ADDRESS_PROVINCE     16000 non-null  category\n",
      " 10  FACT_ADDRESS_PROVINCE    16000 non-null  category\n",
      " 11  POSTAL_ADDRESS_PROVINCE  16000 non-null  category\n",
      " 12  FL_PRESENCE_FL           16000 non-null  category\n",
      " 13  OWN_AUTO                 16000 non-null  category\n",
      " 14  FAMILY_INCOME            15223 non-null  category\n",
      " 15  PERSONAL_INCOME          15223 non-null  float64 \n",
      " 16  GEN_INDUSTRY             13856 non-null  category\n",
      " 17  GEN_TITLE                13856 non-null  category\n",
      " 18  JOB_DIR                  13856 non-null  category\n",
      " 19  WORK_TIME                13855 non-null  float64 \n",
      " 20  AGREEMENT_RK             15223 non-null  float64 \n",
      " 21  TARGET                   15223 non-null  category\n",
      " 22  CREDIT                   15223 non-null  float64 \n",
      " 23  TERM                     15223 non-null  category\n",
      " 24  FST_PAYMENT              15223 non-null  float64 \n",
      " 25  ID_LOAN                  15223 non-null  float64 \n",
      " 26  CLOSED_FL                15223 non-null  float64 \n",
      " 27  N_LOANS                  16000 non-null  category\n",
      "dtypes: category(18), float64(7), int64(3)\n",
      "memory usage: 1.6 MB\n"
     ]
    }
   ],
   "source": [
    "for col in to_category + list(df.select_dtypes('object').columns):\n",
    "    df[col] = df[col].astype('category')\n",
    "    \n",
    "df.info()"
   ]
  },
  {
   "cell_type": "markdown",
   "id": "173a5a0b-6199-436e-9e16-d8dec35ae9dc",
   "metadata": {},
   "source": [
    "Посчитаем число займов на клиента"
   ]
  },
  {
   "cell_type": "markdown",
   "id": "a67d35c8-220d-4bfd-803f-5c9cef6f3c23",
   "metadata": {},
   "source": [
    "Некоторые колонки для EDA не понадобятся, удалим их"
   ]
  },
  {
   "cell_type": "code",
   "execution_count": 25,
   "id": "cb44cf19-346d-4294-8801-3bd97ada6a8b",
   "metadata": {
    "tags": []
   },
   "outputs": [],
   "source": [
    "df = df.drop(['AGREEMENT_RK', 'ID_LOAN','ID'], axis=1)"
   ]
  },
  {
   "cell_type": "code",
   "execution_count": 26,
   "id": "599abc20-ed0d-413e-aee5-1ab29375d8c8",
   "metadata": {
    "tags": []
   },
   "outputs": [
    {
     "data": {
      "text/plain": [
       "0.0    13411\n",
       "1.0     1812\n",
       "Name: TARGET, dtype: int64"
      ]
     },
     "execution_count": 26,
     "metadata": {},
     "output_type": "execute_result"
    }
   ],
   "source": [
    "df['TARGET'].value_counts()"
   ]
  },
  {
   "cell_type": "code",
   "execution_count": 27,
   "id": "416d60cf-19a2-455c-901b-d7827b574cf9",
   "metadata": {
    "tags": []
   },
   "outputs": [
    {
     "data": {
      "text/plain": [
       "True"
      ]
     },
     "execution_count": 27,
     "metadata": {},
     "output_type": "execute_result"
    }
   ],
   "source": [
    "numerical_columns = df.select_dtypes(include=['int64', 'float64']).columns\n",
    "categorical_columns = df.select_dtypes(include=['category']).columns\n",
    "(len(numerical_columns) + len(categorical_columns)) == df.shape[1]"
   ]
  },
  {
   "cell_type": "markdown",
   "id": "ad9fd33d-eb21-45af-8505-37f736f94ac2",
   "metadata": {
    "tags": []
   },
   "source": [
    "Заполним пропуски медианами в случае числовых переменных и модами в случае категориальных"
   ]
  },
  {
   "cell_type": "code",
   "execution_count": 28,
   "id": "42fb25c3-8b99-45b1-b85f-e8f4342ef32a",
   "metadata": {
    "tags": []
   },
   "outputs": [
    {
     "data": {
      "text/plain": [
       "AGE                        0\n",
       "GENDER                     0\n",
       "EDUCATION                  0\n",
       "MARITAL_STATUS             0\n",
       "CHILD_TOTAL                0\n",
       "DEPENDANTS                 0\n",
       "SOCSTATUS_WORK_FL          0\n",
       "SOCSTATUS_PENS_FL          0\n",
       "REG_ADDRESS_PROVINCE       0\n",
       "FACT_ADDRESS_PROVINCE      0\n",
       "POSTAL_ADDRESS_PROVINCE    0\n",
       "FL_PRESENCE_FL             0\n",
       "OWN_AUTO                   0\n",
       "FAMILY_INCOME              0\n",
       "PERSONAL_INCOME            0\n",
       "GEN_INDUSTRY               0\n",
       "GEN_TITLE                  0\n",
       "JOB_DIR                    0\n",
       "WORK_TIME                  0\n",
       "TARGET                     0\n",
       "CREDIT                     0\n",
       "TERM                       0\n",
       "FST_PAYMENT                0\n",
       "CLOSED_FL                  0\n",
       "N_LOANS                    0\n",
       "dtype: int64"
      ]
     },
     "execution_count": 28,
     "metadata": {},
     "output_type": "execute_result"
    }
   ],
   "source": [
    "df[numerical_columns] = df[numerical_columns].fillna(df[numerical_columns].median())\n",
    "df[categorical_columns] = df[categorical_columns].apply(lambda x: x.fillna(x.mode().iloc[0]))\n",
    "\n",
    "df.isna().sum()"
   ]
  },
  {
   "cell_type": "code",
   "execution_count": null,
   "id": "ed6c3232-a4a5-45f4-b213-4e0d7d49af86",
   "metadata": {},
   "outputs": [],
   "source": [
    "reg_addr == fact_addr?"
   ]
  },
  {
   "cell_type": "code",
   "execution_count": null,
   "id": "95fe044e-e523-4cac-847a-7af955b73a8a",
   "metadata": {},
   "outputs": [],
   "source": [
    "personal_income == family_income"
   ]
  },
  {
   "cell_type": "code",
   "execution_count": 50,
   "id": "a4229b37-8617-4aa3-8cce-ed28bf4122a3",
   "metadata": {
    "tags": []
   },
   "outputs": [],
   "source": [
    "df.to_csv('data.csv', index=False)"
   ]
  }
 ],
 "metadata": {
  "kernelspec": {
   "display_name": "Python 3 (ipykernel)",
   "language": "python",
   "name": "python3"
  },
  "language_info": {
   "codemirror_mode": {
    "name": "ipython",
    "version": 3
   },
   "file_extension": ".py",
   "mimetype": "text/x-python",
   "name": "python",
   "nbconvert_exporter": "python",
   "pygments_lexer": "ipython3",
   "version": "3.7.12"
  }
 },
 "nbformat": 4,
 "nbformat_minor": 5
}
